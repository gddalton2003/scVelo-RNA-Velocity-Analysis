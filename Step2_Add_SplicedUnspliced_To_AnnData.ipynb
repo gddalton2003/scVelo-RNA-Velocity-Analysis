{
 "cells": [
  {
   "cell_type": "code",
   "execution_count": 2,
   "id": "30c31703",
   "metadata": {},
   "outputs": [],
   "source": [
    "import scvelo as scv\n",
    "import scanpy as sc\n",
    "import numpy as np\n",
    "import pandas as pd\n",
    "import anndata as ad"
   ]
  },
  {
   "cell_type": "code",
   "execution_count": 3,
   "id": "e6422cd5",
   "metadata": {},
   "outputs": [],
   "source": [
    "scv.settings.verbosity = 3\n",
    "scv.settings.set_figure_params('scvelo', facecolor='white', dpi=100, frameon=False)"
   ]
  },
  {
   "cell_type": "code",
   "execution_count": null,
   "id": "f3ea3830",
   "metadata": {},
   "outputs": [],
   "source": [
    "# load anndata object"
   ]
  },
  {
   "cell_type": "code",
   "execution_count": 4,
   "id": "fd173c67",
   "metadata": {},
   "outputs": [],
   "source": [
    "adata = sc.read_h5ad('/chg3/analysts/gd2/scVelo_Oligos_Only/FemaleLow/FLOligos_AnnData.h5ad')"
   ]
  },
  {
   "cell_type": "code",
   "execution_count": null,
   "id": "e6ae62e2",
   "metadata": {},
   "outputs": [],
   "source": [
    "# load loom files for spliced/unspliced matrices for the sample"
   ]
  },
  {
   "cell_type": "code",
   "execution_count": 5,
   "id": "4fc914e1",
   "metadata": {},
   "outputs": [],
   "source": [
    "ldata1 = scv.read('/chg3/analysts/gd2/scVelo_Oligos_Only/FemaleLow/velocyto/possorted_genome_bam_2FZL5.loom', cache=False)"
   ]
  },
  {
   "cell_type": "code",
   "execution_count": null,
   "id": "6b1ff60f",
   "metadata": {},
   "outputs": [],
   "source": [
    "# take a look at the anndata object"
   ]
  },
  {
   "cell_type": "code",
   "execution_count": 6,
   "id": "23af0b48",
   "metadata": {},
   "outputs": [
    {
     "data": {
      "text/plain": [
       "AnnData object with n_obs × n_vars = 1066 × 24201\n",
       "    obs: 'nCount_RNA', 'nFeature_RNA', 'nCount_SCT', 'nFeature_SCT', 'orig.ident', 'type', 'percent.mt', 'percent.rb', 'RNA_snn_res.0.1', 'seurat_clusters', 'pANN_0.25_0.005_44', 'doublet_finder', 'pANN_0.25_0.19_1663', 'pANN_0.25_0.19_1429', 'pANN_0.25_0.24_1620', 'integrated_snn_res.1', 'monaco', 'barcode', 'UMAP_1', 'UMAP_2'\n",
       "    obsm: 'X_pca', 'X_umap'"
      ]
     },
     "execution_count": 6,
     "metadata": {},
     "output_type": "execute_result"
    }
   ],
   "source": [
    "adata"
   ]
  },
  {
   "cell_type": "code",
   "execution_count": 7,
   "id": "b8f5c906",
   "metadata": {},
   "outputs": [
    {
     "data": {
      "text/plain": [
       "AnnData object with n_obs × n_vars = 10188 × 55401\n",
       "    var: 'Accession', 'Chromosome', 'End', 'Start', 'Strand'\n",
       "    layers: 'matrix', 'ambiguous', 'spliced', 'unspliced'"
      ]
     },
     "execution_count": 7,
     "metadata": {},
     "output_type": "execute_result"
    }
   ],
   "source": [
    "ldata1"
   ]
  },
  {
   "cell_type": "code",
   "execution_count": null,
   "id": "263f8333",
   "metadata": {},
   "outputs": [],
   "source": [
    "# rename barcodes in order to merge"
   ]
  },
  {
   "cell_type": "code",
   "execution_count": 7,
   "id": "2daba940",
   "metadata": {},
   "outputs": [],
   "source": [
    "barcodes = [bc.split(':')[1] for bc in ldata1.obs.index.tolist()]\n",
    "barcodes = [bc[0:len(bc)-1] + '-1_1' for bc in barcodes]\n",
    "ldata1.obs.index = barcodes"
   ]
  },
  {
   "cell_type": "code",
   "execution_count": null,
   "id": "5456cb28",
   "metadata": {},
   "outputs": [],
   "source": [
    "# take a look at obs_names in ldata1 object"
   ]
  },
  {
   "cell_type": "code",
   "execution_count": 8,
   "id": "7f66152d",
   "metadata": {},
   "outputs": [
    {
     "data": {
      "text/plain": [
       "Index(['AAAGTCCTCTTAGCCC-1_1', 'AAAGTGACAGCATCTA-1_1', 'AAAGTCCTCGGATTAC-1_1',\n",
       "       'AAAGAACTCAAACCCA-1_1', 'AAAGGTAAGACGGATC-1_1', 'AAAGGGCTCTCCCTAG-1_1',\n",
       "       'AAAGGATTCCTCACCA-1_1', 'AAACGCTGTGGGTTGA-1_1', 'AAACGCTAGGCCCGTT-1_1',\n",
       "       'AAACGAACAACCAACT-1_1',\n",
       "       ...\n",
       "       'TTTCGATAGTCTTCCC-1_1', 'TTTCGATCACATAACC-1_1', 'TTTCATGCAGCAGACA-1_1',\n",
       "       'TTTCGATAGATGTTAG-1_1', 'TTTGGTTAGCCGTTAT-1_1', 'TTTGGAGCATTGTCGA-1_1',\n",
       "       'TTTCCTCGTTCCCACT-1_1', 'TTTCAGTTCATTGAGC-1_1', 'TTTCGATCATCTCCCA-1_1',\n",
       "       'TTTGATCCAATCAAGA-1_1'],\n",
       "      dtype='object', length=10188)"
      ]
     },
     "execution_count": 8,
     "metadata": {},
     "output_type": "execute_result"
    }
   ],
   "source": [
    "ldata1.obs_names"
   ]
  },
  {
   "cell_type": "code",
   "execution_count": null,
   "id": "74ea3099",
   "metadata": {},
   "outputs": [],
   "source": [
    "# take a look at adata.obs_names (they should match ldata1.obs_names)"
   ]
  },
  {
   "cell_type": "code",
   "execution_count": 9,
   "id": "604eff4f",
   "metadata": {},
   "outputs": [
    {
     "data": {
      "text/plain": [
       "Index(['AAACCCATCTTTCGAT-1_1', 'AAACGCTCACTTCCTG-1_1', 'AAAGGATTCTGTTGGA-1_1',\n",
       "       'AAAGGGCCAATTCTCT-1_1', 'AAAGGGCGTTTGAACC-1_1', 'AAAGGTAGTGGGATTG-1_1',\n",
       "       'AAAGGTATCTAGTGAC-1_1', 'AAAGTCCAGTCCTGCG-1_1', 'AAAGTGAAGAAGCGAA-1_1',\n",
       "       'AAAGTGACAGGCCTGT-1_1',\n",
       "       ...\n",
       "       'TTTACTGCATATCGGT-1_1', 'TTTAGTCAGGGAGGGT-1_1', 'TTTATGCGTAATGATG-1_1',\n",
       "       'TTTCACAAGTTGTAGA-1_1', 'TTTCATGTCCAGCCTT-1_1', 'TTTCCTCTCGAGGCAA-1_1',\n",
       "       'TTTCGATCACATAACC-1_1', 'TTTGACTCAGCACCCA-1_1', 'TTTGATCAGGGTAATT-1_1',\n",
       "       'TTTGATCAGTGCCCGT-1_1'],\n",
       "      dtype='object', name='barcode', length=1066)"
      ]
     },
     "execution_count": 9,
     "metadata": {},
     "output_type": "execute_result"
    }
   ],
   "source": [
    "adata.obs_names"
   ]
  },
  {
   "cell_type": "code",
   "execution_count": null,
   "id": "98804143",
   "metadata": {},
   "outputs": [],
   "source": [
    "# create bdata object in which ldata.obs_names = adata.obs_names"
   ]
  },
  {
   "cell_type": "code",
   "execution_count": 10,
   "id": "e5349267",
   "metadata": {},
   "outputs": [],
   "source": [
    "bdata = ldata1[ldata1.obs_names.isin(adata.obs_names)]"
   ]
  },
  {
   "cell_type": "code",
   "execution_count": null,
   "id": "c80864a8",
   "metadata": {},
   "outputs": [],
   "source": [
    "# take a look at bdata object"
   ]
  },
  {
   "cell_type": "code",
   "execution_count": 11,
   "id": "159b2c74",
   "metadata": {},
   "outputs": [
    {
     "data": {
      "text/plain": [
       "View of AnnData object with n_obs × n_vars = 1066 × 55401\n",
       "    var: 'Accession', 'Chromosome', 'End', 'Start', 'Strand'\n",
       "    layers: 'matrix', 'ambiguous', 'spliced', 'unspliced'"
      ]
     },
     "execution_count": 11,
     "metadata": {},
     "output_type": "execute_result"
    }
   ],
   "source": [
    "bdata"
   ]
  },
  {
   "cell_type": "code",
   "execution_count": null,
   "id": "05d580a7",
   "metadata": {},
   "outputs": [],
   "source": [
    "# merge matrices into original adata object"
   ]
  },
  {
   "cell_type": "code",
   "execution_count": 12,
   "id": "485e6fec",
   "metadata": {},
   "outputs": [],
   "source": [
    "adata1 = scv.utils.merge(adata, bdata)"
   ]
  },
  {
   "cell_type": "code",
   "execution_count": null,
   "id": "49ed421d",
   "metadata": {},
   "outputs": [],
   "source": [
    "# take a look at new anndata object called adata1"
   ]
  },
  {
   "cell_type": "code",
   "execution_count": 13,
   "id": "7bbdf399",
   "metadata": {},
   "outputs": [
    {
     "name": "stderr",
     "output_type": "stream",
     "text": [
      "/usr/local/python/lib/python3.9/site-packages/ipykernel/ipkernel.py:283: DeprecationWarning: `should_run_async` will not call `transform_cell` automatically in the future. Please pass the result to `transformed_cell` argument and any exception that happen during thetransform in `preprocessing_exc_tuple` in IPython 7.17 and above.\n",
      "  and should_run_async(code)\n"
     ]
    },
    {
     "data": {
      "text/plain": [
       "AnnData object with n_obs × n_vars = 1066 × 24039\n",
       "    obs: 'nCount_RNA', 'nFeature_RNA', 'nCount_SCT', 'nFeature_SCT', 'orig.ident', 'type', 'percent.mt', 'percent.rb', 'RNA_snn_res.0.1', 'seurat_clusters', 'pANN_0.25_0.005_44', 'doublet_finder', 'pANN_0.25_0.19_1663', 'pANN_0.25_0.19_1429', 'pANN_0.25_0.24_1620', 'integrated_snn_res.1', 'monaco', 'barcode', 'UMAP_1', 'UMAP_2', 'initial_size_unspliced', 'initial_size_spliced', 'initial_size'\n",
       "    var: 'Accession', 'Chromosome', 'End', 'Start', 'Strand'\n",
       "    obsm: 'X_pca', 'X_umap'\n",
       "    layers: 'matrix', 'ambiguous', 'spliced', 'unspliced'"
      ]
     },
     "execution_count": 13,
     "metadata": {},
     "output_type": "execute_result"
    }
   ],
   "source": [
    "adata1"
   ]
  },
  {
   "cell_type": "code",
   "execution_count": null,
   "id": "dcab7623",
   "metadata": {},
   "outputs": [],
   "source": [
    "# save new anndata object which can now be used in scVelo analysis"
   ]
  },
  {
   "cell_type": "code",
   "execution_count": null,
   "id": "8d9880af",
   "metadata": {},
   "outputs": [],
   "source": [
    "adata1.write('/chg3/analysts/gd2/scVelo_Oligos_Only/FemaleLow/FLAll_Use_This_For_scVeloAnalysis.h5ad')"
   ]
  }
 ],
 "metadata": {
  "kernelspec": {
   "display_name": "Python 3",
   "language": "python",
   "name": "python3"
  },
  "language_info": {
   "codemirror_mode": {
    "name": "ipython",
    "version": 3
   },
   "file_extension": ".py",
   "mimetype": "text/x-python",
   "name": "python",
   "nbconvert_exporter": "python",
   "pygments_lexer": "ipython3",
   "version": "3.9.4"
  }
 },
 "nbformat": 4,
 "nbformat_minor": 5
}
