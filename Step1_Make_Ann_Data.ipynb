{
 "cells": [
  {
   "cell_type": "code",
   "execution_count": 1,
   "id": "3f13ae96",
   "metadata": {},
   "outputs": [],
   "source": [
    "import scanpy as sc\n",
    "import anndata\n",
    "from scipy import io\n",
    "from scipy.sparse import coo_matrix, csr_matrix\n",
    "import numpy as np\n",
    "import os\n",
    "import pandas as pd"
   ]
  },
  {
   "cell_type": "code",
   "execution_count": null,
   "id": "d946912f",
   "metadata": {},
   "outputs": [],
   "source": [
    "# load counts matrix"
   ]
  },
  {
   "cell_type": "code",
   "execution_count": 2,
   "id": "db1c2b2f",
   "metadata": {},
   "outputs": [],
   "source": [
    "X = io.mmread(\"/chg3/analysts/gd2/scVelo_Oligos_Only/FemaleLow/FL_counts.mtx\")"
   ]
  },
  {
   "cell_type": "code",
   "execution_count": null,
   "id": "dc79d9ef",
   "metadata": {},
   "outputs": [],
   "source": [
    "# create anndata object"
   ]
  },
  {
   "cell_type": "code",
   "execution_count": 3,
   "id": "c233adc2",
   "metadata": {},
   "outputs": [],
   "source": [
    "adata = anndata.AnnData(\n",
    "    X=X.transpose().tocsr()\n",
    ")"
   ]
  },
  {
   "cell_type": "code",
   "execution_count": null,
   "id": "9c862205",
   "metadata": {},
   "outputs": [],
   "source": [
    "# load cell metadata from metadata.csv"
   ]
  },
  {
   "cell_type": "code",
   "execution_count": 4,
   "id": "080f78c7",
   "metadata": {},
   "outputs": [],
   "source": [
    "cell_meta = pd.read_csv(\"/chg3/analysts/gd2/scVelo_Oligos_Only/FemaleLow/FL_OligosOnly_metadata.csv\")"
   ]
  },
  {
   "cell_type": "code",
   "execution_count": null,
   "id": "32aa0b93",
   "metadata": {},
   "outputs": [],
   "source": [
    "# load gene names from gene_names.csv"
   ]
  },
  {
   "cell_type": "code",
   "execution_count": 5,
   "id": "6a7d3619",
   "metadata": {},
   "outputs": [],
   "source": [
    "with open(\"/chg3/analysts/gd2/scVelo_Oligos_Only/FemaleLow/FL_OligosOnly_gene_names.csv\", 'r') as f:\n",
    "    gene_names = f.read().splitlines()"
   ]
  },
  {
   "cell_type": "code",
   "execution_count": null,
   "id": "a3976df6",
   "metadata": {},
   "outputs": [],
   "source": [
    "# set anndata observations and index observations by barcodes and var by gene names"
   ]
  },
  {
   "cell_type": "code",
   "execution_count": 6,
   "id": "0ac33bb8",
   "metadata": {},
   "outputs": [],
   "source": [
    "adata.obs = cell_meta\n",
    "adata.obs.index = adata.obs['barcode']\n",
    "adata.var.index = gene_names"
   ]
  },
  {
   "cell_type": "code",
   "execution_count": null,
   "id": "a8ddc9b2",
   "metadata": {},
   "outputs": [],
   "source": [
    "# load pca dimensional reduction info"
   ]
  },
  {
   "cell_type": "code",
   "execution_count": 7,
   "id": "82655062",
   "metadata": {},
   "outputs": [],
   "source": [
    "pca = pd.read_csv(\"/chg3/analysts/gd2/scVelo_Oligos_Only/FemaleLow/FL_OligosOnly_pca.csv\")\n",
    "pca.index = adata.obs.index"
   ]
  },
  {
   "cell_type": "code",
   "execution_count": null,
   "id": "500b9ee8",
   "metadata": {},
   "outputs": [],
   "source": [
    "# set pca and umap"
   ]
  },
  {
   "cell_type": "code",
   "execution_count": 8,
   "id": "29052af3",
   "metadata": {},
   "outputs": [],
   "source": [
    "adata.obsm['X_pca'] = pca.to_numpy()\n",
    "adata.obsm['X_umap'] = np.vstack((adata.obs['UMAP_1'].to_numpy(), adata.obs['UMAP_2'].to_numpy())).T"
   ]
  },
  {
   "cell_type": "code",
   "execution_count": null,
   "id": "28cc6890",
   "metadata": {},
   "outputs": [],
   "source": [
    "# plot a UMAP colored by cell type"
   ]
  },
  {
   "cell_type": "code",
   "execution_count": null,
   "id": "779d50bb",
   "metadata": {},
   "outputs": [],
   "source": [
    "sc.pl.umap(adata, color = ['monaco2'], frameon=False, save = 'UMAP.png')"
   ]
  },
  {
   "cell_type": "code",
   "execution_count": null,
   "id": "c22f6364",
   "metadata": {},
   "outputs": [],
   "source": [
    "# save dataset in anndata format"
   ]
  },
  {
   "cell_type": "code",
   "execution_count": 9,
   "id": "b3d18687",
   "metadata": {},
   "outputs": [],
   "source": [
    "adata.write('/chg3/analysts/gd2/scVelo_Oligos_Only/FemaleLow/FLOligos_AnnData2.h5ad')"
   ]
  },
  {
   "cell_type": "code",
   "execution_count": null,
   "id": "4d8b6eb6",
   "metadata": {},
   "outputs": [],
   "source": [
    "# look at anndata object that was created"
   ]
  },
  {
   "cell_type": "code",
   "execution_count": 10,
   "id": "4e3a2373",
   "metadata": {},
   "outputs": [
    {
     "data": {
      "text/plain": [
       "AnnData object with n_obs × n_vars = 1066 × 24201\n",
       "    obs: 'nCount_RNA', 'nFeature_RNA', 'nCount_SCT', 'nFeature_SCT', 'orig.ident', 'type', 'percent.mt', 'percent.rb', 'RNA_snn_res.0.1', 'seurat_clusters', 'pANN_0.25_0.005_44', 'doublet_finder', 'pANN_0.25_0.19_1663', 'pANN_0.25_0.19_1429', 'pANN_0.25_0.24_1620', 'integrated_snn_res.1', 'monaco', 'barcode', 'UMAP_1', 'UMAP_2'\n",
       "    obsm: 'X_pca', 'X_umap'"
      ]
     },
     "execution_count": 10,
     "metadata": {},
     "output_type": "execute_result"
    }
   ],
   "source": [
    "adata"
   ]
  },
  {
   "cell_type": "code",
   "execution_count": null,
   "id": "539fb096",
   "metadata": {},
   "outputs": [],
   "source": []
  }
 ],
 "metadata": {
  "kernelspec": {
   "display_name": "Python 3",
   "language": "python",
   "name": "python3"
  },
  "language_info": {
   "codemirror_mode": {
    "name": "ipython",
    "version": 3
   },
   "file_extension": ".py",
   "mimetype": "text/x-python",
   "name": "python",
   "nbconvert_exporter": "python",
   "pygments_lexer": "ipython3",
   "version": "3.9.4"
  }
 },
 "nbformat": 4,
 "nbformat_minor": 5
}
